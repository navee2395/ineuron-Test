{
  "nbformat": 4,
  "nbformat_minor": 0,
  "metadata": {
    "colab": {
      "name": "assignment 1",
      "provenance": []
    },
    "kernelspec": {
      "name": "python3",
      "display_name": "Python 3"
    }
  },
  "cells": [
    {
      "cell_type": "code",
      "metadata": {
        "id": "VUC4-Rh0gfnS"
      },
      "source": [
        "\"\"\" 1. what are the diffrence between operators and values in the following \r\n",
        "*\r\n",
        "\"hello\"\r\n",
        "-87.8\r\n",
        "-\r\n",
        "/\r\n",
        "+\r\n",
        "6\r\n",
        "ANS: Here * - / + are the oprators reffred to the arthmetic oprators \r\n",
        "and \"hello\" ,-87.8,6 are the valus refered to string ,floting ,int value type respectivly\"\"\"\r\n",
        "\r\n"
      ],
      "execution_count": 1,
      "outputs": []
    },
    {
      "cell_type": "code",
      "metadata": {
        "id": "aMqz5qrPi78d"
      },
      "source": [
        "\"\"\" 2. what is the diffrence between string and vairable\r\n",
        "spam\r\n",
        "\"spam\"\r\n",
        "ANS: the term spam is the variable which is the name given to some value\r\n",
        "eg: spam = \"ineuron\"\r\n",
        "The string \"spam\" is the value assigend to the variable\r\n",
        "eg: x=\"spam\"   \"\"\"\r\n"
      ],
      "execution_count": null,
      "outputs": []
    },
    {
      "cell_type": "code",
      "metadata": {
        "id": "lnCxq1hJkGWW"
      },
      "source": [
        "\"\"\"3. describe three data forms\r\n",
        "ANS:\r\n",
        "INT : interger is one of the data type in python stores integer values eg: int = 5\r\n",
        "FLOAT: floating is one of the type which stores floating point values eg: float = 5.30000\r\n",
        "STRING: string is one of the type stores string data eg: string=\"ineuron\"    \"\"\""
      ],
      "execution_count": null,
      "outputs": []
    },
    {
      "cell_type": "code",
      "metadata": {
        "id": "HoX_PrCzgwi4"
      },
      "source": [
        "\"\"\" 4.what are expressions? whwt are the functions of all expressions\r\n",
        "ANS:An expression is an instruction that combines values and operators and always evaluates down to a single value.\r\n",
        " For example, this is an expression: >>> 2 + 2. The 2s are integer values and the + is the mathematical operator. \r\n",
        " This expression evaluates down to the single integer value 4.\r\n",
        " "
      ],
      "execution_count": null,
      "outputs": []
    },
    {
      "cell_type": "code",
      "metadata": {
        "id": "Sjn-mdyrnXvy"
      },
      "source": [
        "\"\"\"5.in this chapter,assignment statments such as spam = 10 were added\r\n",
        "ehat is the diffrence between a declaration and expression?\r\n",
        "ANS: declaration is something assigning some value to variable and declearing that eg: spam=10\r\n",
        "expression is using multiple operator and values to get single outcome    \"\"\""
      ],
      "execution_count": null,
      "outputs": []
    },
    {
      "cell_type": "code",
      "metadata": {
        "id": "LrpaYd5BonAm"
      },
      "source": [
        "\"\"\" 6.after running the following code ,what does the variable bacon contain?\r\n",
        "bacon = 22\r\n",
        "bacon + 1\r\n",
        "ANS: 21    \"\"\""
      ],
      "execution_count": null,
      "outputs": []
    },
    {
      "cell_type": "code",
      "metadata": {
        "id": "_jmv6pSCpEIK"
      },
      "source": [
        "\"\"\"7.what should the values of the followng two terms be ?\r\n",
        "\"spam\"+\"spamsapam\"\r\n",
        "\"spam\"*3\r\n",
        "ANS: \"spam\"+\"spamspam\" gives us \"spamspamspam\"\r\n",
        "\"spam\"*3 gives us \"spamspamspam\"     \"\"\""
      ],
      "execution_count": null,
      "outputs": []
    },
    {
      "cell_type": "code",
      "metadata": {
        "id": "jMfni1sBpW8Q"
      },
      "source": [
        "\"\"\"8.why is the eggs is a true variable name but 100 is not??\r\n",
        "ANS : There are some rules while declaring the variable \r\n",
        "and variable name shouldnot start with the number is one of the rule   \"\"\""
      ],
      "execution_count": null,
      "outputs": []
    },
    {
      "cell_type": "code",
      "metadata": {
        "id": "Em9ZbODNqa5a"
      },
      "source": [
        "\"\"\" 9.which of the following three fucnction may beused to convert a value to an integer??\r\n",
        "ANS: INT is the fucntion used eg:int(5.000)  \"\"\""
      ],
      "execution_count": null,
      "outputs": []
    },
    {
      "cell_type": "code",
      "metadata": {
        "id": "1gyz3tO1q6cG"
      },
      "source": [
        "\"\"\"10. what is the error caused by the expression??wahtwuold you do abot it??\r\n",
        "\"i have eaten\"+99+\"burritos\"??\r\n",
        "ANS: we get type error since we cant canacatenate string with integer \r\n",
        "so conver int type to string eg:\"i have eaten\"+str(99)+\"burritos\"\r\n"
      ],
      "execution_count": null,
      "outputs": []
    },
    {
      "cell_type": "code",
      "metadata": {
        "colab": {
          "base_uri": "https://localhost:8080/",
          "height": 35
        },
        "id": "WjPU4FqNrSrk",
        "outputId": "988d5b16-b5a2-4898-f91a-1494bb24e9de"
      },
      "source": [
        "\"i have eaten\"+str(99)+\"burritos\""
      ],
      "execution_count": 6,
      "outputs": [
        {
          "output_type": "execute_result",
          "data": {
            "application/vnd.google.colaboratory.intrinsic+json": {
              "type": "string"
            },
            "text/plain": [
              "'i have eaten99burritos'"
            ]
          },
          "metadata": {
            "tags": []
          },
          "execution_count": 6
        }
      ]
    }
  ]
}